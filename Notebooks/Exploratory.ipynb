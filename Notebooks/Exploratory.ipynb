{
 "cells": [
  {
   "cell_type": "markdown",
   "id": "60a5cd7c",
   "metadata": {},
   "source": [
    "### Mid_Bootcamp_ Project: "
   ]
  },
  {
   "cell_type": "markdown",
   "id": "9b2ff03b",
   "metadata": {},
   "source": [
    "## Alcohol Effects On Study"
   ]
  },
  {
   "cell_type": "markdown",
   "id": "e337fd1d",
   "metadata": {},
   "source": [
    "#### Data_Source: https://www.kaggle.com/datasets/whenamancodes/alcohol-effects-on-study\n",
    "\n",
    "\n",
    "\n",
    "### Column Description:\n",
    "\n",
    "#### school:     student's school (binary: 'GP' - Gabriel Pereira or 'MS' - Mousinho da Silveira)\n",
    "\n",
    "#### sex:     student's sex (binary: 'F' - female or 'M' - male)\n",
    "\n",
    "#### age:     student's age (numeric: from 15 to 22)\n",
    "\n",
    "#### address:     student's home address type (binary: 'U' - urban or 'R' - rural)\n",
    "\n",
    "#### famsize:     family size (binary: 'LE3' - less or equal to 3 or 'GT3' - greater than 3)\n",
    "\n",
    "#### Pstatus:     parent's cohabitation status (binary: 'T' - living together or 'A' - apart)\n",
    "\n",
    "#### Medu:     mother's education (numeric: 0 - none, 1 - primary education (4th grade), 2 â€“ 5th to 9th grade, 3 â€“ secondary    education or 4 â€“ higher education)\n",
    "\n",
    "#### Fedu:     father's education (numeric: 0 - none, 1 - primary education (4th grade), 2 â€“ 5th to 9th grade, 3 â€“ secondary education or 4 â€“ higher education)\n",
    "\n",
    "#### Mjob:     mother's job (nominal: 'teacher', 'health' care related, civil 'services' (e.g. administrative or police), 'at_home' or 'other’)\n",
    "\n",
    "#### Fjob:     father's job (nominal: 'teacher', 'health' care related, civil 'services' (e.g. administrative or police), 'at_home' or 'other’)\n",
    "\n",
    "#### reason:     reason to choose this school (nominal: close to 'home', school 'reputation', 'course' preference or 'other’)\n",
    "\n",
    "#### guardian:     student's guardian (nominal: 'mother', 'father' or 'other’)\n",
    "\n",
    "#### traveltime:     home to school travel time (numeric: 1 - <15 min., 2 - 15 to 30 min., 3 - 30 min. to 1 hour, or 4 - >1 hour)\n",
    "\n",
    "#### studytime:     weekly study time (numeric: 1 - <2 hours, 2 - 2 to 5 hours, 3 - 5 to 10 hours, or 4 - >10 hours)\n",
    "\n",
    "#### failures:     number of past class failures (numeric: n if 1<=n<3, else 4)\n",
    "\n",
    "#### schoolsup:     extra educational support (binary: yes or no)\n",
    "\n",
    "#### famsup:     family educational support (binary: yes or no)\n",
    "\n",
    "#### paid:     extra paid classes within the course subject (Math or Portuguese) (binary: yes or no)\n",
    "\n",
    "#### activities:     extra-curricular activities (binary: yes or no)\n",
    "\n",
    "#### nursery:     attended nursery school (binary: yes or no)\n",
    "\n",
    "#### higher:     wants to take higher education (binary: yes or no)\n",
    "\n",
    "#### internet:     Internet access at home (binary: yes or no)\n",
    "\n",
    "#### romantic:     with a romantic relationship (binary: yes or no)\n",
    "\n",
    "#### famrel:     quality of family relationships (numeric: from 1 - very bad to 5 - excellent)\n",
    "\n",
    "#### freetime:     free time after school (numeric: from 1 - very low to 5 - very high)\n",
    "\n",
    "#### goout:     going out with friends (numeric: from 1 - very low to 5 - very high)\n",
    "\n",
    "#### Dalc:     workday alcohol consumption (numeric: from 1 - very low to 5 - very high)\n",
    "\n",
    "#### Walc:     weekend alcohol consumption (numeric: from 1 - very low to 5 - very high)\n",
    "\n",
    "#### health:     current health status (numeric: from 1 - very bad to 5 - very good)\n",
    "\n",
    "#### absences:     number of school absences (numeric: from 0 to 93)\n",
    "\n",
    "_________________________________________________________________________________\n",
    "\n",
    "### Grade:\n",
    "\n",
    "#### G1:\t\t\t\t\t\tfirst period grade (numeric: from 0 to 20)\n",
    "\n",
    "#### G2:\t\t\t\t\t\tsecond period grade (numeric: from 0 to 20)\n",
    "\n",
    "#### G3:\t\t\t\t\t\tfinal grade (numeric: from 0 to 20, output target)\n"
   ]
  },
  {
   "cell_type": "code",
   "execution_count": null,
   "id": "bd169745",
   "metadata": {},
   "outputs": [],
   "source": [
    "import numpy as np\n",
    "import pandas as pd\n",
    "import seaborn as sns\n",
    "import matplotlib.pyplot as plt\n",
    "import yaml\n",
    "import scipy.stats as st"
   ]
  },
  {
   "cell_type": "code",
   "execution_count": null,
   "id": "6c3c7c7c",
   "metadata": {},
   "outputs": [],
   "source": [
    "# Open yaml configs\n",
    "with open('../params.yaml') as file:\n",
    "    config = yaml.safe_load(file)\n",
    "config"
   ]
  },
  {
   "cell_type": "markdown",
   "id": "2a463309",
   "metadata": {},
   "source": [
    "### Data Cleaning"
   ]
  },
  {
   "cell_type": "code",
   "execution_count": null,
   "id": "db95460d",
   "metadata": {},
   "outputs": [],
   "source": [
    "# importing maths file\n",
    "maths = pd.read_csv(config['data']['maths_raw'])\n",
    "maths"
   ]
  },
  {
   "cell_type": "code",
   "execution_count": null,
   "id": "aa7840b4",
   "metadata": {},
   "outputs": [],
   "source": [
    "# importing portuguese file\n",
    "port = pd.read_csv(config['data']['portuguese_raw'])\n",
    "port"
   ]
  },
  {
   "cell_type": "code",
   "execution_count": null,
   "id": "f732fb55",
   "metadata": {},
   "outputs": [],
   "source": [
    "#Checking duplicates maths --> no duplicates\n",
    "maths.duplicated().value_counts()\n"
   ]
  },
  {
   "cell_type": "code",
   "execution_count": null,
   "id": "fbeaa531",
   "metadata": {},
   "outputs": [],
   "source": [
    "#Checking duplicates portuguese --> no duplicates\n",
    "port.duplicated().value_counts()"
   ]
  },
  {
   "cell_type": "code",
   "execution_count": null,
   "id": "e4aaa86c",
   "metadata": {},
   "outputs": [],
   "source": [
    "# create subject column\n",
    "maths['subject'] = 'maths'\n",
    "maths.head()"
   ]
  },
  {
   "cell_type": "code",
   "execution_count": null,
   "id": "d3bd7d1f",
   "metadata": {},
   "outputs": [],
   "source": [
    "# create subject column\n",
    "port['subject'] = 'portuguese'\n",
    "port.head()"
   ]
  },
  {
   "cell_type": "code",
   "execution_count": null,
   "id": "6e781f81",
   "metadata": {},
   "outputs": [],
   "source": [
    "# combine datasets\n",
    "data = pd.concat([maths, port], axis=0)\n",
    "data\n"
   ]
  },
  {
   "cell_type": "code",
   "execution_count": null,
   "id": "9733d339",
   "metadata": {},
   "outputs": [],
   "source": [
    "# checking for NaN values --> No NaN values\n",
    "data.isna().sum()"
   ]
  },
  {
   "cell_type": "code",
   "execution_count": null,
   "id": "c0e704d4",
   "metadata": {},
   "outputs": [],
   "source": [
    "#checking for duplicates\n",
    "data.duplicated().value_counts()\n"
   ]
  },
  {
   "cell_type": "code",
   "execution_count": null,
   "id": "e50d6d44",
   "metadata": {},
   "outputs": [],
   "source": [
    "data.shape"
   ]
  },
  {
   "cell_type": "code",
   "execution_count": null,
   "id": "8b1e0904",
   "metadata": {},
   "outputs": [],
   "source": [
    "data.info()"
   ]
  },
  {
   "cell_type": "code",
   "execution_count": null,
   "id": "6a899411",
   "metadata": {},
   "outputs": [],
   "source": [
    "# standardizing column names in lower case\n",
    "data.columns = data.columns.str.strip().str.lower()\n",
    "data.head()\n"
   ]
  },
  {
   "cell_type": "markdown",
   "id": "4d31536a",
   "metadata": {},
   "source": [
    "### Data Exploration"
   ]
  },
  {
   "cell_type": "code",
   "execution_count": null,
   "id": "d90eb910",
   "metadata": {},
   "outputs": [],
   "source": [
    "# describe categoricals\n",
    "data.describe(include=object).T"
   ]
  },
  {
   "cell_type": "code",
   "execution_count": null,
   "id": "144bafcd",
   "metadata": {},
   "outputs": [],
   "source": [
    "# describe numericals\n",
    "data.describe()"
   ]
  },
  {
   "cell_type": "code",
   "execution_count": null,
   "id": "ff62af60",
   "metadata": {},
   "outputs": [],
   "source": [
    "# Getting the above average grades (g3)\n",
    "upper_g3 = data[data['g3'] > data['g3'].mean()]\n",
    "upper_g3"
   ]
  },
  {
   "cell_type": "code",
   "execution_count": null,
   "id": "ebdf52a4",
   "metadata": {
    "scrolled": true
   },
   "outputs": [],
   "source": [
    "above_percentage = len(upper_g3) * (100/len(data))\n",
    "print(round(above_percentage),'% of grades (g3) are above average.')"
   ]
  },
  {
   "cell_type": "code",
   "execution_count": null,
   "id": "eac1cb9a",
   "metadata": {},
   "outputs": [],
   "source": [
    "# Getting the below average grades (g3)\n",
    "lower_g3 = data[data['g3'] < data['g3'].mean()]\n",
    "lower_g3"
   ]
  },
  {
   "cell_type": "code",
   "execution_count": null,
   "id": "dd3a2e01",
   "metadata": {
    "scrolled": false
   },
   "outputs": [],
   "source": [
    "lower_percentage = len(lower_g3) * (100/len(data))\n",
    "print(round(lower_percentage), '% of grades (g3) are below average.')"
   ]
  },
  {
   "cell_type": "code",
   "execution_count": null,
   "id": "0a53e955",
   "metadata": {},
   "outputs": [],
   "source": [
    "sns.countplot(x='g3', data=data);\n",
    "plt.grid(axis ='y')\n",
    "plt.show()"
   ]
  },
  {
   "cell_type": "code",
   "execution_count": null,
   "id": "3ef42f61",
   "metadata": {},
   "outputs": [],
   "source": [
    "# According to the plot above, adding another grade column, splitting g3 into 4 (high), 3 (high mid), 2 (low mid) and 1 (low) grades\n",
    "\n",
    "def get_grade(val):\n",
    "    if val <= 6:\n",
    "        return 1\n",
    "    elif val <= 10:\n",
    "        return 2\n",
    "    elif val <= 15:\n",
    "        return 3\n",
    "    else:\n",
    "        return 4\n",
    "\n",
    "data['grade'] = data['g3'].apply(get_grade)\n",
    "data.head()"
   ]
  },
  {
   "cell_type": "code",
   "execution_count": null,
   "id": "8fc9d0d8",
   "metadata": {},
   "outputs": [],
   "source": []
  },
  {
   "cell_type": "code",
   "execution_count": null,
   "id": "cfdf72aa",
   "metadata": {},
   "outputs": [],
   "source": [
    "data.value_counts('grade')"
   ]
  },
  {
   "cell_type": "markdown",
   "id": "74a35805",
   "metadata": {},
   "source": [
    "### Checking the impact of each column on the grades"
   ]
  },
  {
   "cell_type": "code",
   "execution_count": null,
   "id": "70965ac0",
   "metadata": {},
   "outputs": [],
   "source": [
    "# school\n",
    "sx = sns.barplot(x='school', y='grade', data=data)\n",
    "sx.grid(axis='y')\n",
    "plt.show()"
   ]
  },
  {
   "cell_type": "code",
   "execution_count": null,
   "id": "c96cc85a",
   "metadata": {},
   "outputs": [],
   "source": [
    "# sex\n",
    "sx = sns.barplot(x='sex', y='grade', data=data)\n",
    "sx.grid(axis='y')\n",
    "plt.show()"
   ]
  },
  {
   "cell_type": "code",
   "execution_count": null,
   "id": "d0327e55",
   "metadata": {},
   "outputs": [],
   "source": [
    "data['age'].value_counts()"
   ]
  },
  {
   "cell_type": "code",
   "execution_count": null,
   "id": "9d96bcb0",
   "metadata": {},
   "outputs": [],
   "source": [
    "# Drop outliers in age column\n",
    "data.drop(data.loc[data['age']>=20].index, inplace=True)\n",
    "data['age'].value_counts()"
   ]
  },
  {
   "cell_type": "code",
   "execution_count": null,
   "id": "5beb7563",
   "metadata": {},
   "outputs": [],
   "source": [
    "data = data.reset_index()\n",
    "data"
   ]
  },
  {
   "cell_type": "code",
   "execution_count": null,
   "id": "9b8bc562",
   "metadata": {},
   "outputs": [],
   "source": [
    "# age\n",
    "sx = sns.barplot(x='age', y='grade', data=data)\n",
    "sx.grid(axis='y')\n",
    "plt.show()"
   ]
  },
  {
   "cell_type": "code",
   "execution_count": null,
   "id": "cd0383ee",
   "metadata": {},
   "outputs": [],
   "source": [
    "# address - urban or rural\n",
    "sx = sns.barplot(x='address', y='grade', data=data)\n",
    "sx.grid(axis='y')\n",
    "plt.show()"
   ]
  },
  {
   "cell_type": "code",
   "execution_count": null,
   "id": "d9de441a",
   "metadata": {},
   "outputs": [],
   "source": [
    "# family size - greater than 3 or less/equal 3\n",
    "sns.barplot(x='famsize', y='grade', data=data)\n",
    "plt.show()"
   ]
  },
  {
   "cell_type": "code",
   "execution_count": null,
   "id": "5a108769",
   "metadata": {},
   "outputs": [],
   "source": [
    "# parents cohabitation status\n",
    "sns.barplot(x='pstatus', y='grade', data=data)\n",
    "plt.show()"
   ]
  },
  {
   "cell_type": "markdown",
   "id": "34e6f22e",
   "metadata": {},
   "source": [
    "### parents cohabitation status / family size"
   ]
  },
  {
   "cell_type": "code",
   "execution_count": null,
   "id": "1c2d8f67",
   "metadata": {},
   "outputs": [],
   "source": [
    "# parents cohabitation status / family size\n",
    "#edu_order = [0,1,2,3,4]\n",
    "fig, ax = plt.subplots(1,2,figsize=(10,5))\n",
    "sx = sns.barplot(data = data, y='grade', x='pstatus', ax = ax[0])\n",
    "sx.set(title = \"Parental Status\", xlabel = 'pstatus', ylabel = 'grade')\n",
    "sx.grid(axis='y')\n",
    "sx = sns.barplot(data = data, y='grade', x='famsize', ax = ax[1])\n",
    "sx.set(title = \"Family Size\", xlabel = 'famsize', ylabel = 'grade')\n",
    "sx.grid(axis='y')\n",
    "plt.tight_layout()\n",
    "plt.show()"
   ]
  },
  {
   "cell_type": "code",
   "execution_count": null,
   "id": "5d64e11f",
   "metadata": {
    "scrolled": false
   },
   "outputs": [],
   "source": [
    "# mother's education\n",
    "sns.barplot(x='medu', y='grade', data=data)\n",
    "plt.show()"
   ]
  },
  {
   "cell_type": "code",
   "execution_count": null,
   "id": "0674c8ed",
   "metadata": {},
   "outputs": [],
   "source": [
    "# father's education\n",
    "sns.barplot(x='fedu', y='grade', data=data)\n",
    "plt.show()"
   ]
  },
  {
   "cell_type": "markdown",
   "id": "9015f57d",
   "metadata": {},
   "source": [
    "### Parent's Education"
   ]
  },
  {
   "cell_type": "code",
   "execution_count": null,
   "id": "fcd1051a",
   "metadata": {},
   "outputs": [],
   "source": [
    "edu_order = [0,1,2,3,4]\n",
    "fig, ax = plt.subplots(1,2,figsize=(10,5))\n",
    "sx = sns.barplot(data = data, y='grade', x='medu', ax = ax[0], order=edu_order)\n",
    "sx.set(title = \"Mother's Education\", xlabel = 'medu', ylabel = 'grade')\n",
    "sx.grid(axis='y')\n",
    "sx = sns.barplot(data = data, y='grade', x='fedu', ax = ax[1], order=edu_order)\n",
    "sx.set(title = \"Father's Eduation\", xlabel = 'fedu', ylabel = 'grade')\n",
    "sx.grid(axis='y')\n",
    "plt.tight_layout()\n",
    "plt.show()"
   ]
  },
  {
   "cell_type": "code",
   "execution_count": null,
   "id": "a861315f",
   "metadata": {},
   "outputs": [],
   "source": [
    "# mother's job\n",
    "sns.barplot(x='mjob', y='grade', data=data)\n",
    "plt.show()"
   ]
  },
  {
   "cell_type": "code",
   "execution_count": null,
   "id": "e4dfad46",
   "metadata": {},
   "outputs": [],
   "source": [
    "# father's job\n",
    "sns.barplot(x='fjob', y='grade', data=data)\n",
    "plt.show()"
   ]
  },
  {
   "cell_type": "markdown",
   "id": "d541d955",
   "metadata": {},
   "source": [
    "### Parent's Occupation"
   ]
  },
  {
   "cell_type": "code",
   "execution_count": null,
   "id": "40e89460",
   "metadata": {},
   "outputs": [],
   "source": [
    "job_order = ['teacher','health', 'services','other', 'at_home']\n",
    "fig, ax = plt.subplots(1,2,figsize=(10,5))\n",
    "sx = sns.barplot(data = data, y='grade', x='mjob', ax = ax[0], order=job_order)\n",
    "sx.set(title = \"Mother's Occupation\", xlabel = 'mjob', ylabel = 'grade')\n",
    "sx.grid(axis='y')\n",
    "sx = sns.barplot(data = data, y='grade', x='fjob', ax = ax[1], order=job_order)\n",
    "sx.set(title = \"Father's Occupation\", xlabel = 'fjob', ylabel = 'grade')\n",
    "sx.grid(axis='y')\n",
    "plt.tight_layout()\n",
    "plt.show()\n",
    "\n"
   ]
  },
  {
   "cell_type": "code",
   "execution_count": null,
   "id": "ea861d43",
   "metadata": {},
   "outputs": [],
   "source": [
    "# reason for choice of school\n",
    "sx = sns.barplot(x='reason', y='grade', data=data)\n",
    "sx.grid(axis='y')\n",
    "plt.show()"
   ]
  },
  {
   "cell_type": "code",
   "execution_count": null,
   "id": "0a5dd04a",
   "metadata": {},
   "outputs": [],
   "source": [
    "# guardian\n",
    "sx = sns.barplot(x='guardian', y='grade', data=data)\n",
    "sx.grid(axis='y')\n",
    "plt.show()"
   ]
  },
  {
   "cell_type": "code",
   "execution_count": null,
   "id": "e13c6e12",
   "metadata": {},
   "outputs": [],
   "source": [
    "# traveltime (1 - <15 min., 2 - 15 to 30 min., 3 - 30 min. to 1 hour, or 4 - >1 hour)\n",
    "sx = sns.barplot(x='traveltime', y='grade', data=data)\n",
    "sx.grid(axis='y')\n",
    "plt.show()"
   ]
  },
  {
   "cell_type": "code",
   "execution_count": null,
   "id": "e6e25a28",
   "metadata": {},
   "outputs": [],
   "source": [
    "# studytime (1 - <2 hours, 2 - 2 to 5 hours, 3 - 5 to 10 hours, or 4 - >10 hours)\n",
    "sx = sns.barplot(x='studytime', y='grade', data=data)\n",
    "sx.grid(axis='y')\n",
    "plt.show()"
   ]
  },
  {
   "cell_type": "code",
   "execution_count": null,
   "id": "dfa99196",
   "metadata": {},
   "outputs": [],
   "source": [
    "# past class failures\n",
    "sx = sns.barplot(x='failures', y='grade', data=data)\n",
    "sx.grid(axis='y')\n",
    "plt.show()"
   ]
  },
  {
   "cell_type": "code",
   "execution_count": null,
   "id": "0615a812",
   "metadata": {},
   "outputs": [],
   "source": [
    "# extra educational support\n",
    "sx = sns.barplot(x='schoolsup', y='grade', data=data)\n",
    "sx.grid(axis='y')\n",
    "plt.show()"
   ]
  },
  {
   "cell_type": "code",
   "execution_count": null,
   "id": "8b5cc3ee",
   "metadata": {},
   "outputs": [],
   "source": [
    "# family educational support\n",
    "sx = sns.barplot(x='famsup', y='grade', data=data)\n",
    "sx.grid(axis='y')\n",
    "plt.show()"
   ]
  },
  {
   "cell_type": "code",
   "execution_count": null,
   "id": "ccc81a75",
   "metadata": {},
   "outputs": [],
   "source": [
    "sup_order = ['yes','no']\n",
    "fig, ax = plt.subplots(1,2,figsize=(10,5))\n",
    "sx = sns.barplot(data = data, y='grade', x='schoolsup', ax = ax[0], order=sup_order)\n",
    "sx.set(title = \"Extra Educational Support\", xlabel = 'schoolsup', ylabel = 'grade')\n",
    "sx.grid(axis='y')\n",
    "sx = sns.barplot(data = data, y='grade', x='famsup', ax = ax[1], order=sup_order)\n",
    "sx.set(title = \"Family Educational Support\", xlabel = 'famsup', ylabel = 'grade')\n",
    "sx.grid(axis='y')\n",
    "plt.tight_layout()\n",
    "plt.show()"
   ]
  },
  {
   "cell_type": "code",
   "execution_count": null,
   "id": "b1e34bb2",
   "metadata": {},
   "outputs": [],
   "source": [
    "# extra paid classes\n",
    "sx = sns.barplot(x='paid', y='grade', data=data)\n",
    "sx.grid(axis='y')\n",
    "plt.show()"
   ]
  },
  {
   "cell_type": "code",
   "execution_count": null,
   "id": "2e961189",
   "metadata": {},
   "outputs": [],
   "source": [
    "# extra curricular activities\n",
    "sx = sns.barplot(x='activities', y='grade', data=data)\n",
    "sx.grid(axis='y')\n",
    "plt.show()"
   ]
  },
  {
   "cell_type": "code",
   "execution_count": null,
   "id": "aa8c2582",
   "metadata": {},
   "outputs": [],
   "source": [
    "\n",
    "extra_order = ['yes','no']\n",
    "fig, ax = plt.subplots(1,2,figsize=(10,5))\n",
    "sx = sns.barplot(data = data, y='grade', x='paid', ax = ax[0], order=extra_order)\n",
    "sx.set(title = \"Extra Paid Classes\", xlabel = 'paid', ylabel = 'grade')\n",
    "sx.grid(axis='y')\n",
    "sx = sns.barplot(data = data, y='grade', x='activities', ax = ax[1], order=extra_order)\n",
    "sx.set(title = \"Extra Curricular Activities\", xlabel = 'activities', ylabel = 'grade')\n",
    "sx.grid(axis='y')\n",
    "plt.tight_layout()\n",
    "plt.show()"
   ]
  },
  {
   "cell_type": "code",
   "execution_count": null,
   "id": "5ee3c494",
   "metadata": {},
   "outputs": [],
   "source": [
    "#mathsdata\n",
    "\n",
    "maths = data[\"subject\"].isin([\"maths\"])\n",
    "mathsdata = data[maths]\n",
    "mathsdata"
   ]
  },
  {
   "cell_type": "code",
   "execution_count": null,
   "id": "809dae41",
   "metadata": {},
   "outputs": [],
   "source": [
    "extra_order = ['yes','no']\n",
    "fig, ax = plt.subplots(1,2,figsize=(10,5))\n",
    "sx = sns.barplot(data = mathsdata, y='grade', x='paid', ax = ax[0], order=extra_order)\n",
    "sx.set(title = \"Extra Paid Classes - Maths\", xlabel = 'paid', ylabel = 'grade')\n",
    "sx.grid(axis='y')\n",
    "sx = sns.barplot(data = data, y='grade', x='activities', ax = ax[1], order=extra_order)\n",
    "sx.set(title = \"Extra Curricular Activities - Maths\", xlabel = 'activities', ylabel = 'grade')\n",
    "sx.grid(axis='y')\n",
    "plt.tight_layout()\n",
    "plt.savefig(\"../plots/maths_grades_per_paid_activities.png\")\n",
    "plt.show()"
   ]
  },
  {
   "cell_type": "code",
   "execution_count": null,
   "id": "5538bdcb",
   "metadata": {},
   "outputs": [],
   "source": [
    "port = data[\"subject\"].isin([\"portuguese\"])\n",
    "portdata = data[port]\n",
    "portdata"
   ]
  },
  {
   "cell_type": "code",
   "execution_count": null,
   "id": "c7fa59cf",
   "metadata": {},
   "outputs": [],
   "source": [
    "extra_order = ['yes','no']\n",
    "fig, ax = plt.subplots(1,2,figsize=(10,5))\n",
    "sx = sns.barplot(data = portdata, y='grade', x='paid', ax = ax[0], order=extra_order)\n",
    "sx.set(title = \"Extra Paid Classes - Portuguese\", xlabel = 'paid', ylabel = 'grade')\n",
    "sx.grid(axis='y')\n",
    "sx = sns.barplot(data = data, y='grade', x='activities', ax = ax[1], order=extra_order)\n",
    "sx.set(title = \"Extra Curricular Activities - Portuguese\", xlabel = 'activities', ylabel = 'grade')\n",
    "sx.grid(axis='y')\n",
    "plt.tight_layout()\n",
    "plt.savefig(\"../plots/port_grades_per_paid_activities.png\")\n",
    "plt.show()"
   ]
  },
  {
   "cell_type": "code",
   "execution_count": null,
   "id": "4538c609",
   "metadata": {},
   "outputs": [],
   "source": [
    "# attended nursery\n",
    "sns.barplot(x='nursery', y='grade', data=data)\n",
    "plt.show()"
   ]
  },
  {
   "cell_type": "code",
   "execution_count": null,
   "id": "adab755a",
   "metadata": {},
   "outputs": [],
   "source": [
    "# aiming for higher education\n",
    "sns.barplot(x='higher', y='grade', data=data)\n",
    "plt.show()"
   ]
  },
  {
   "cell_type": "code",
   "execution_count": null,
   "id": "795da9d6",
   "metadata": {},
   "outputs": [],
   "source": [
    "#internet access\n",
    "sns.barplot(x='internet', y='grade', data=data)\n",
    "plt.show()"
   ]
  },
  {
   "cell_type": "code",
   "execution_count": null,
   "id": "b20d7a2e",
   "metadata": {},
   "outputs": [],
   "source": [
    "# romantically involved\n",
    "sns.barplot(x='romantic', y='grade', data=data)\n",
    "plt.show()"
   ]
  },
  {
   "cell_type": "code",
   "execution_count": null,
   "id": "287c01ec",
   "metadata": {},
   "outputs": [],
   "source": [
    "# quality of family relationship (1 - very bad to 5 - excellent)\n",
    "sns.barplot(x='famrel', y='grade', data=data)\n",
    "plt.show()"
   ]
  },
  {
   "cell_type": "code",
   "execution_count": null,
   "id": "bb9ecf7e",
   "metadata": {},
   "outputs": [],
   "source": [
    "# freetime (1 - very low to 5 - very high)\n",
    "sns.barplot(x='freetime', y='grade', data=data)\n",
    "plt.show()"
   ]
  },
  {
   "cell_type": "code",
   "execution_count": null,
   "id": "6a5a37b8",
   "metadata": {},
   "outputs": [],
   "source": [
    "# going out (1 - very low to 5 - very high)\n",
    "sns.barplot(x='goout', y='grade', data=data)\n",
    "plt.show()"
   ]
  },
  {
   "cell_type": "code",
   "execution_count": null,
   "id": "25695ef9",
   "metadata": {},
   "outputs": [],
   "source": [
    "# workday alcohol consumption (1 - very low to 5 - very high)\n",
    "sns.barplot(x='dalc', y='grade', data=data)\n",
    "plt.show()"
   ]
  },
  {
   "cell_type": "code",
   "execution_count": null,
   "id": "d1c0b53c",
   "metadata": {},
   "outputs": [],
   "source": [
    "# weekend alcohol consumption (1 - very low to 5 - very high)\n",
    "sns.barplot(x='walc', y='grade', data=data)\n",
    "plt.show()"
   ]
  },
  {
   "cell_type": "code",
   "execution_count": null,
   "id": "dbeab733",
   "metadata": {},
   "outputs": [],
   "source": [
    "# health status (1 - very bad to 5 - very good)\n",
    "sns.barplot(x='health', y='grade', data=data)\n",
    "plt.show()"
   ]
  },
  {
   "cell_type": "code",
   "execution_count": null,
   "id": "7137aee6",
   "metadata": {},
   "outputs": [],
   "source": [
    "# school absences (0 to 75)\n",
    "sns.barplot(x='absences', y='grade', data=data)\n",
    "plt.tight_layout()\n",
    "data.value_counts('absences')"
   ]
  },
  {
   "cell_type": "code",
   "execution_count": null,
   "id": "353670df",
   "metadata": {
    "scrolled": true
   },
   "outputs": [],
   "source": [
    "data.pivot_table(index=['sex'], values=['dalc'], aggfunc=['mean'])"
   ]
  },
  {
   "cell_type": "code",
   "execution_count": null,
   "id": "9b272df9",
   "metadata": {
    "scrolled": false
   },
   "outputs": [],
   "source": [
    "#!!! weekend: The between 15 and 18, older the students get, the more the gender gap widens\n",
    "data.groupby(['sex', 'pstatus']).agg({'dalc':np.mean})"
   ]
  },
  {
   "cell_type": "code",
   "execution_count": null,
   "id": "33fe7e8c",
   "metadata": {},
   "outputs": [],
   "source": [
    "data.value_counts('age')"
   ]
  },
  {
   "cell_type": "code",
   "execution_count": null,
   "id": "78088aac",
   "metadata": {},
   "outputs": [],
   "source": [
    "data.value_counts('guardian')"
   ]
  },
  {
   "cell_type": "code",
   "execution_count": null,
   "id": "d3f6b498",
   "metadata": {},
   "outputs": [],
   "source": [
    "data.value_counts('reason')"
   ]
  },
  {
   "cell_type": "code",
   "execution_count": null,
   "id": "122267a8",
   "metadata": {},
   "outputs": [],
   "source": [
    "data.value_counts('romantic')"
   ]
  },
  {
   "cell_type": "code",
   "execution_count": null,
   "id": "b4337e9c",
   "metadata": {},
   "outputs": [],
   "source": [
    "data.value_counts('dalc')"
   ]
  },
  {
   "cell_type": "code",
   "execution_count": null,
   "id": "86600e18",
   "metadata": {},
   "outputs": [],
   "source": [
    "data.value_counts('walc')"
   ]
  },
  {
   "cell_type": "code",
   "execution_count": null,
   "id": "1071da0b",
   "metadata": {},
   "outputs": [],
   "source": [
    "data.value_counts('health')"
   ]
  },
  {
   "cell_type": "code",
   "execution_count": null,
   "id": "a2e5cf35",
   "metadata": {},
   "outputs": [],
   "source": [
    "data.value_counts('health')"
   ]
  },
  {
   "cell_type": "code",
   "execution_count": null,
   "id": "ff40f406",
   "metadata": {},
   "outputs": [],
   "source": [
    "sns.countplot(x='health', data=data)\n",
    "plt.show()"
   ]
  },
  {
   "cell_type": "code",
   "execution_count": null,
   "id": "b7669d9a",
   "metadata": {},
   "outputs": [],
   "source": [
    "sns.pairplot(data)"
   ]
  },
  {
   "cell_type": "code",
   "execution_count": null,
   "id": "64467e81",
   "metadata": {},
   "outputs": [],
   "source": [
    "sns.countplot(x='mjob', data=data);\n",
    "plt.show()"
   ]
  },
  {
   "cell_type": "code",
   "execution_count": null,
   "id": "2dcb2c2c",
   "metadata": {},
   "outputs": [],
   "source": [
    "sns.countplot(x='g3', data=data);\n",
    "plt.show()"
   ]
  },
  {
   "cell_type": "code",
   "execution_count": null,
   "id": "b488a4d2",
   "metadata": {},
   "outputs": [],
   "source": [
    "fig, ax = plt.subplots(figsize=(5,5))\n",
    "ax.scatter(y=data['mjob'], x=data['dalc'])\n",
    "ax.set_xlabel('dalc')\n",
    "ax.set_ylabel('mjob')\n",
    "ax.set_title(\"Checking relationships\")\n",
    "plt.show()"
   ]
  },
  {
   "cell_type": "code",
   "execution_count": null,
   "id": "9cba19a0",
   "metadata": {},
   "outputs": [],
   "source": [
    "sns.barplot(x='guardian', y='g3', data=data);\n",
    "plt.show()"
   ]
  },
  {
   "cell_type": "code",
   "execution_count": null,
   "id": "eb529bc5",
   "metadata": {},
   "outputs": [],
   "source": [
    "# gut\n",
    "sns.barplot(x='goout', y='absences', data=data);\n",
    "plt.show()"
   ]
  },
  {
   "cell_type": "code",
   "execution_count": null,
   "id": "6098173d",
   "metadata": {},
   "outputs": [],
   "source": [
    "# gut\n",
    "sns.barplot(x='goout', y='dalc', data=data);\n",
    "plt.show()"
   ]
  },
  {
   "cell_type": "code",
   "execution_count": null,
   "id": "fa408ea1",
   "metadata": {},
   "outputs": [],
   "source": [
    "# gut\n",
    "sns.barplot(x='grade', y='goout', data=data);\n",
    "plt.show()"
   ]
  },
  {
   "cell_type": "code",
   "execution_count": null,
   "id": "73c4130c",
   "metadata": {},
   "outputs": [],
   "source": [
    "# gut\n",
    "sns.barplot(x='romantic', y='grade', data=data);\n",
    "plt.show()"
   ]
  },
  {
   "cell_type": "code",
   "execution_count": null,
   "id": "e77b1c22",
   "metadata": {},
   "outputs": [],
   "source": [
    "data.groupby(['sex', 'age']).agg({'dalc':np.mean})"
   ]
  },
  {
   "cell_type": "code",
   "execution_count": null,
   "id": "36820b4d",
   "metadata": {},
   "outputs": [],
   "source": [
    "# boxplot??\n",
    "#get_outliers(data)"
   ]
  },
  {
   "cell_type": "code",
   "execution_count": null,
   "id": "6f09717a",
   "metadata": {},
   "outputs": [],
   "source": [
    "data.corr()"
   ]
  },
  {
   "cell_type": "code",
   "execution_count": null,
   "id": "25d32683",
   "metadata": {},
   "outputs": [],
   "source": [
    "sns.heatmap(data.corr())"
   ]
  },
  {
   "cell_type": "markdown",
   "id": "f0b3387a",
   "metadata": {},
   "source": [
    "### Hypothesis:\n",
    "\n",
    "#### 1. Students between 16 and 18 consume alcohol once a week on average. (two-sided)\n",
    "#### 2. Girls drink less alcohol, if their parents live together. (left-sided)\n",
    "#### 3. Urban boys drink more alcohol than rural boys. (right-sided)"
   ]
  },
  {
   "cell_type": "code",
   "execution_count": null,
   "id": "f62f5e91",
   "metadata": {},
   "outputs": [],
   "source": [
    "# creating a column 'talc' (Total Weekly Alcohol Consumption) \n",
    "data['talc'] = data['dalc']*5/7 + data['walc']*2/7\n",
    "data"
   ]
  },
  {
   "cell_type": "code",
   "execution_count": null,
   "id": "6c65b45f",
   "metadata": {},
   "outputs": [],
   "source": [
    "# 1. Alcohol consumption of Students between 16 and 18 is low (2).\n",
    "# confidence level = 0,95\n",
    "# H0: sample_mean != 2\n",
    "# H1: sample_mean == 2\n",
    "\n",
    "sample = data[(data['age']>=16) & (data['age']<=18)]['talc'] \n",
    "sample_mean = np.mean(sample)\n",
    "alpha = 0.05\n",
    "t_statistic    = (sample_mean - 2) / (np.std(sample,ddof=1) / np.sqrt(len(sample)))\n",
    "lower_critical = st.t.ppf((alpha/2), df=len(sample)-1)\n",
    "upper_critical = st.t.ppf(1-(alpha/2), df=len(sample)-1)\n",
    "\n",
    "print(f\"Lower critical: {lower_critical}\")\n",
    "print(f\"Statistic:      {t_statistic}\")\n",
    "print(f\"Upper critical: {upper_critical}\")"
   ]
  },
  {
   "cell_type": "markdown",
   "id": "5e41dabf",
   "metadata": {},
   "source": [
    "#### Result: Since the statistic is NOT between the restriction areas, H0 is accepted. The hypothesis that Alcohol consumption of students between 16 and 18 is low (2), is correct."
   ]
  },
  {
   "cell_type": "code",
   "execution_count": null,
   "id": "867623b5",
   "metadata": {},
   "outputs": [],
   "source": [
    "# 2. Girls drink less alcohol, if their parents live together.\n",
    "# confidence level = 0,95\n",
    "# H0: sample_mean >= 2\n",
    "# H1: sample_mean < 2\n",
    "\n",
    "sample = data[(data['sex']=='F') & (data['pstatus']== 'T')]['talc'] \n",
    "stat, pval = st.ttest_1samp(sample, popmean=2, alternative=\"less\")\n",
    "\n",
    "print(f\"Statistic: {stat}\")\n",
    "print(f\"Pval:      {pval}\")"
   ]
  },
  {
   "cell_type": "markdown",
   "id": "6a314781",
   "metadata": {},
   "source": [
    "#### Result: Since the p-value ist bigger than the left sided restriction area, H0 is rejected. The hypothesis that the alcohol consumption of girls is less than low (2), is correct."
   ]
  },
  {
   "cell_type": "code",
   "execution_count": null,
   "id": "9a706ebe",
   "metadata": {},
   "outputs": [],
   "source": [
    "# 3. Urban boys drink more alcohol than rural boys.\n",
    "# confidence level = 0,95\n",
    "# H0: sample_mean <= 3\n",
    "# H1: sample_mean > 3\n",
    "\n",
    "sample = data[(data['address']=='U') & (data['sex']== 'M')]['talc'] \n",
    "stat, pval = st.ttest_1samp(sample, popmean=3, alternative=\"greater\")\n",
    "\n",
    "print(f\"Statistic: {stat}\")\n",
    "print(f\"Pval:      {pval}\")"
   ]
  },
  {
   "cell_type": "markdown",
   "id": "e398ea2b",
   "metadata": {},
   "source": [
    "#### Result: Since the p-value ist bigger than 0.95 (confidence level), H0 is accepted. The hypothesis that urban boys consume more alcohol  than boys from rural areas is incorrect."
   ]
  },
  {
   "cell_type": "code",
   "execution_count": null,
   "id": "11c647ac",
   "metadata": {},
   "outputs": [],
   "source": [
    "sns.barplot(x='grade', y='talc', data=data)\n",
    "plt.show()"
   ]
  },
  {
   "cell_type": "code",
   "execution_count": null,
   "id": "fe369bf3",
   "metadata": {},
   "outputs": [],
   "source": [
    "grade_order = [6,5,4,3,2,1]\n",
    "fig, ax = plt.subplots(1,2,figsize=(10,5))\n",
    "sx = sns.countplot(x='grade',data = portdata, ax = ax[0], order=grade_order)\n",
    "sx.set(title = \"Grade - Portuguese\", xlabel = 'grade', ylabel = 'count')\n",
    "sx.grid(axis='y')\n",
    "sx = sns.countplot(x='grade',data = mathsdata, ax = ax[1], order=grade_order)\n",
    "sx.set(title = \"Grade - Maths\", xlabel = 'grade', ylabel = 'count')\n",
    "sx.grid(axis='y')\n",
    "plt.tight_layout()\n",
    "plt.savefig(\"../plots/grade_port_maths.png\")\n",
    "plt.show()"
   ]
  }
 ],
 "metadata": {
  "kernelspec": {
   "display_name": "Python 3 (ipykernel)",
   "language": "python",
   "name": "python3"
  },
  "language_info": {
   "codemirror_mode": {
    "name": "ipython",
    "version": 3
   },
   "file_extension": ".py",
   "mimetype": "text/x-python",
   "name": "python",
   "nbconvert_exporter": "python",
   "pygments_lexer": "ipython3",
   "version": "3.9.13"
  }
 },
 "nbformat": 4,
 "nbformat_minor": 5
}
